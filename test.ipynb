{
 "cells": [
  {
   "cell_type": "code",
   "execution_count": 1,
   "metadata": {},
   "outputs": [],
   "source": [
    "import pandas as pd"
   ]
  },
  {
   "cell_type": "code",
   "execution_count": 6,
   "metadata": {},
   "outputs": [
    {
     "data": {
      "text/html": [
       "<div>\n",
       "<style scoped>\n",
       "    .dataframe tbody tr th:only-of-type {\n",
       "        vertical-align: middle;\n",
       "    }\n",
       "\n",
       "    .dataframe tbody tr th {\n",
       "        vertical-align: top;\n",
       "    }\n",
       "\n",
       "    .dataframe thead th {\n",
       "        text-align: right;\n",
       "    }\n",
       "</style>\n",
       "<table border=\"1\" class=\"dataframe\">\n",
       "  <thead>\n",
       "    <tr style=\"text-align: right;\">\n",
       "      <th></th>\n",
       "      <th>Ballot ID</th>\n",
       "      <th>County</th>\n",
       "      <th>Candidate</th>\n",
       "    </tr>\n",
       "  </thead>\n",
       "  <tbody>\n",
       "    <tr>\n",
       "      <th>0</th>\n",
       "      <td>1323913</td>\n",
       "      <td>Jefferson</td>\n",
       "      <td>Charles Casper Stockham</td>\n",
       "    </tr>\n",
       "    <tr>\n",
       "      <th>1</th>\n",
       "      <td>1005842</td>\n",
       "      <td>Jefferson</td>\n",
       "      <td>Charles Casper Stockham</td>\n",
       "    </tr>\n",
       "    <tr>\n",
       "      <th>2</th>\n",
       "      <td>1880345</td>\n",
       "      <td>Jefferson</td>\n",
       "      <td>Charles Casper Stockham</td>\n",
       "    </tr>\n",
       "    <tr>\n",
       "      <th>3</th>\n",
       "      <td>1600337</td>\n",
       "      <td>Jefferson</td>\n",
       "      <td>Charles Casper Stockham</td>\n",
       "    </tr>\n",
       "    <tr>\n",
       "      <th>4</th>\n",
       "      <td>1835994</td>\n",
       "      <td>Jefferson</td>\n",
       "      <td>Charles Casper Stockham</td>\n",
       "    </tr>\n",
       "    <tr>\n",
       "      <th>...</th>\n",
       "      <td>...</td>\n",
       "      <td>...</td>\n",
       "      <td>...</td>\n",
       "    </tr>\n",
       "    <tr>\n",
       "      <th>369706</th>\n",
       "      <td>4714953</td>\n",
       "      <td>Arapahoe</td>\n",
       "      <td>Raymon Anthony Doane</td>\n",
       "    </tr>\n",
       "    <tr>\n",
       "      <th>369707</th>\n",
       "      <td>4497542</td>\n",
       "      <td>Arapahoe</td>\n",
       "      <td>Raymon Anthony Doane</td>\n",
       "    </tr>\n",
       "    <tr>\n",
       "      <th>369708</th>\n",
       "      <td>4085849</td>\n",
       "      <td>Arapahoe</td>\n",
       "      <td>Raymon Anthony Doane</td>\n",
       "    </tr>\n",
       "    <tr>\n",
       "      <th>369709</th>\n",
       "      <td>4592018</td>\n",
       "      <td>Arapahoe</td>\n",
       "      <td>Raymon Anthony Doane</td>\n",
       "    </tr>\n",
       "    <tr>\n",
       "      <th>369710</th>\n",
       "      <td>4660518</td>\n",
       "      <td>Arapahoe</td>\n",
       "      <td>Raymon Anthony Doane</td>\n",
       "    </tr>\n",
       "  </tbody>\n",
       "</table>\n",
       "<p>369711 rows × 3 columns</p>\n",
       "</div>"
      ],
      "text/plain": [
       "        Ballot ID     County                Candidate\n",
       "0         1323913  Jefferson  Charles Casper Stockham\n",
       "1         1005842  Jefferson  Charles Casper Stockham\n",
       "2         1880345  Jefferson  Charles Casper Stockham\n",
       "3         1600337  Jefferson  Charles Casper Stockham\n",
       "4         1835994  Jefferson  Charles Casper Stockham\n",
       "...           ...        ...                      ...\n",
       "369706    4714953   Arapahoe     Raymon Anthony Doane\n",
       "369707    4497542   Arapahoe     Raymon Anthony Doane\n",
       "369708    4085849   Arapahoe     Raymon Anthony Doane\n",
       "369709    4592018   Arapahoe     Raymon Anthony Doane\n",
       "369710    4660518   Arapahoe     Raymon Anthony Doane\n",
       "\n",
       "[369711 rows x 3 columns]"
      ]
     },
     "execution_count": 6,
     "metadata": {},
     "output_type": "execute_result"
    }
   ],
   "source": [
    "df = pd.read_csv(\"PyPoll/Resources/election_data.csv\")\n",
    "df"
   ]
  },
  {
   "cell_type": "code",
   "execution_count": 60,
   "metadata": {},
   "outputs": [
    {
     "data": {
      "text/plain": [
       "369711"
      ]
     },
     "execution_count": 60,
     "metadata": {},
     "output_type": "execute_result"
    }
   ],
   "source": [
    "total_votes = len(df)\n",
    "total_votes"
   ]
  },
  {
   "cell_type": "code",
   "execution_count": 53,
   "metadata": {},
   "outputs": [
    {
     "data": {
      "text/plain": [
       "Charles Casper Stockham     85213\n",
       "Diana DeGette              272892\n",
       "Raymon Anthony Doane        11606\n",
       "Name: Candidate, dtype: int64"
      ]
     },
     "execution_count": 53,
     "metadata": {},
     "output_type": "execute_result"
    }
   ],
   "source": [
    "len(df[\"Candidate\"].value_counts())\n",
    "df[\"Candidate\"].value_counts().sort_index()"
   ]
  },
  {
   "cell_type": "code",
   "execution_count": 56,
   "metadata": {},
   "outputs": [
    {
     "data": {
      "text/plain": [
       "array(['Charles Casper Stockham', 'Diana DeGette', 'Raymon Anthony Doane'],\n",
       "      dtype=object)"
      ]
     },
     "execution_count": 56,
     "metadata": {},
     "output_type": "execute_result"
    }
   ],
   "source": [
    "df[\"Candidate\"].unique()\n"
   ]
  },
  {
   "cell_type": "code",
   "execution_count": 63,
   "metadata": {},
   "outputs": [
    {
     "data": {
      "text/plain": [
       "[['Charles Casper Stockham', 85213, 23.04854332167558],\n",
       " ['Diana DeGette', 272892, 73.81224794501652],\n",
       " ['Raymon Anthony Doane', 11606, 3.1392087333079077]]"
      ]
     },
     "execution_count": 63,
     "metadata": {},
     "output_type": "execute_result"
    }
   ],
   "source": [
    "t = [ [0]*3 for i in range(3)]\n",
    "\n",
    "for i in range(0, len(df[\"Candidate\"].value_counts())):\n",
    "    t[i][0] = df[\"Candidate\"].unique()[i]\n",
    "    t[i][2] = df[\"Candidate\"].value_counts().sort_index()[i]/total_votes*100\n",
    "    t[i][1] = df[\"Candidate\"].value_counts().sort_index()[i]\n",
    "    \n",
    "\n",
    "\n",
    "\n",
    "t\n",
    "\n"
   ]
  },
  {
   "cell_type": "code",
   "execution_count": 125,
   "metadata": {},
   "outputs": [
    {
     "name": "stdout",
     "output_type": "stream",
     "text": [
      "0\n",
      "1\n",
      "2\n"
     ]
    }
   ],
   "source": [
    "for x in range(0,3):\n",
    "    print(x)"
   ]
  },
  {
   "cell_type": "code",
   "execution_count": 123,
   "metadata": {},
   "outputs": [
    {
     "data": {
      "text/plain": [
       "'Diana DeGette'"
      ]
     },
     "execution_count": 123,
     "metadata": {},
     "output_type": "execute_result"
    }
   ],
   "source": [
    "winner = df[\"Candidate\"].value_counts().max()\n",
    "df[\"Candidate\"].value_counts().idxmax()\n"
   ]
  },
  {
   "cell_type": "code",
   "execution_count": 122,
   "metadata": {},
   "outputs": [
    {
     "data": {
      "text/plain": [
       "'Diana DeGette'"
      ]
     },
     "execution_count": 122,
     "metadata": {},
     "output_type": "execute_result"
    }
   ],
   "source": [
    "# df[\"Candidate\"].count().where(df[\"Candidate\"].count() == winner)\n",
    "df2 = pd.DataFrame(t)\n",
    "\n",
    "df2 = df2.rename(columns={0: 'Candidate', 1: 'Votes', 2: 'vote_percentage'})\n",
    "df2\n",
    "\n",
    "# df2[\"Candidate\"].where(df2[\"Votes\"].max())\n",
    "#df2[\"Votes\"].count()\n",
    "winner = df2[\"Votes\"].idxmax()\n",
    "winner\n",
    "df2[\"Candidate\"][winner]\n"
   ]
  }
 ],
 "metadata": {
  "kernelspec": {
   "display_name": "Python 3",
   "language": "python",
   "name": "python3"
  },
  "language_info": {
   "codemirror_mode": {
    "name": "ipython",
    "version": 3
   },
   "file_extension": ".py",
   "mimetype": "text/x-python",
   "name": "python",
   "nbconvert_exporter": "python",
   "pygments_lexer": "ipython3",
   "version": "3.10.9 (tags/v3.10.9:1dd9be6, Dec  6 2022, 20:01:21) [MSC v.1934 64 bit (AMD64)]"
  },
  "orig_nbformat": 4,
  "vscode": {
   "interpreter": {
    "hash": "f4854b38dde7023f266e5bfe74b6123a181f12c94913bad26838169b4fb0c6d0"
   }
  }
 },
 "nbformat": 4,
 "nbformat_minor": 2
}
